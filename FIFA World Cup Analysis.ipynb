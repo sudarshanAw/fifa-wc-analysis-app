{
 "cells": [
  {
   "cell_type": "code",
   "execution_count": 1,
   "id": "1c3b48e4",
   "metadata": {},
   "outputs": [],
   "source": [
    "import pandas as pd\n",
    "import plotly.express as px"
   ]
  },
  {
   "cell_type": "code",
   "execution_count": 2,
   "id": "52c3d473",
   "metadata": {},
   "outputs": [],
   "source": [
    "#getting files for analysis\n",
    "wc_overall = pd.read_csv('WorldCupOverall.csv')\n",
    "wc_matches = pd.read_csv('MatchesPlayersGoals.csv')\n",
    "qualified_teams = pd.read_csv('QualifiedTeams.csv')"
   ]
  },
  {
   "cell_type": "code",
   "execution_count": 3,
   "id": "c7c1d7be",
   "metadata": {},
   "outputs": [
    {
     "name": "stdout",
     "output_type": "stream",
     "text": [
      "<class 'pandas.core.frame.DataFrame'>\n",
      "RangeIndex: 21 entries, 0 to 20\n",
      "Data columns (total 8 columns):\n",
      " #   Column            Non-Null Count  Dtype \n",
      "---  ------            --------------  ----- \n",
      " 0   edition           21 non-null     int64 \n",
      " 1   year              21 non-null     int64 \n",
      " 2   host_country      21 non-null     object\n",
      " 3   first             21 non-null     object\n",
      " 4   second            21 non-null     object\n",
      " 5   third             21 non-null     object\n",
      " 6   teams             21 non-null     int64 \n",
      " 7   total_attendance  21 non-null     int64 \n",
      "dtypes: int64(4), object(4)\n",
      "memory usage: 1.4+ KB\n"
     ]
    }
   ],
   "source": [
    "wc_overall.info()"
   ]
  },
  {
   "cell_type": "code",
   "execution_count": 4,
   "id": "de8f8fdc",
   "metadata": {},
   "outputs": [
    {
     "name": "stdout",
     "output_type": "stream",
     "text": [
      "<class 'pandas.core.frame.DataFrame'>\n",
      "RangeIndex: 2548 entries, 0 to 2547\n",
      "Data columns (total 8 columns):\n",
      " #   Column       Non-Null Count  Dtype \n",
      "---  ------       --------------  ----- \n",
      " 0   year         2548 non-null   int64 \n",
      " 1   country      2548 non-null   object\n",
      " 2   player_id    2548 non-null   object\n",
      " 3   player_name  2548 non-null   object\n",
      " 4   home_goals   2548 non-null   int64 \n",
      " 5   away_goals   2548 non-null   int64 \n",
      " 6   own_goal     2548 non-null   int64 \n",
      " 7   penalty      2548 non-null   int64 \n",
      "dtypes: int64(5), object(3)\n",
      "memory usage: 159.4+ KB\n"
     ]
    }
   ],
   "source": [
    "wc_matches.info()"
   ]
  },
  {
   "cell_type": "markdown",
   "id": "ee46349c",
   "metadata": {},
   "source": [
    "World Cup --> Overall Page"
   ]
  },
  {
   "cell_type": "code",
   "execution_count": null,
   "id": "61f56fbb",
   "metadata": {
    "scrolled": true
   },
   "outputs": [],
   "source": [
    "wc_overall['edition'].iloc[-1]"
   ]
  },
  {
   "cell_type": "code",
   "execution_count": null,
   "id": "7a6f547a",
   "metadata": {},
   "outputs": [],
   "source": [
    "#function to return the count of passed series or list\n",
    "def count(data):\n",
    "    total_count = len(data)\n",
    "    return total_count"
   ]
  },
  {
   "cell_type": "code",
   "execution_count": null,
   "id": "47918a53",
   "metadata": {},
   "outputs": [],
   "source": [
    "#function to return the required dataframe or series\n",
    "def get_data(dataframe,required_column_list):\n",
    "    df = dataframe[required_column_list]\n",
    "    return df"
   ]
  },
  {
   "cell_type": "code",
   "execution_count": null,
   "id": "67240eae",
   "metadata": {},
   "outputs": [],
   "source": [
    "def get_total_wc_played(dataframe):\n",
    "    req_col = ['edition']\n",
    "    total_wc_played = get_data(wc_overall,req_col).iloc[-1].values[0]\n",
    "    return total_wc_played"
   ]
  },
  {
   "cell_type": "code",
   "execution_count": null,
   "id": "13004919",
   "metadata": {
    "scrolled": false
   },
   "outputs": [],
   "source": [
    "get_total_wc_played(wc_overall)"
   ]
  },
  {
   "cell_type": "code",
   "execution_count": null,
   "id": "3ef40c93",
   "metadata": {},
   "outputs": [],
   "source": [
    "#total participating nations list\n",
    "def get_total_participating_nations(dataframe,filter_year=0):\n",
    "    req_col = 'country'\n",
    "    if filter_year == 0:\n",
    "        participating_nations = dataframe[req_col].unique()\n",
    "        return participating_nations\n",
    "    else:\n",
    "        filter_1 = dataframe['year'] == filter_year\n",
    "        participating_nations = dataframe[filter_1][req_col].unique()\n",
    "        return participating_nations"
   ]
  },
  {
   "cell_type": "code",
   "execution_count": null,
   "id": "a897d5a7",
   "metadata": {},
   "outputs": [],
   "source": [
    "get_total_participating_nations(qualified_teams)"
   ]
  },
  {
   "cell_type": "code",
   "execution_count": null,
   "id": "de55c0b8",
   "metadata": {},
   "outputs": [],
   "source": [
    "#world cup winners and winning frequency\n",
    "bar_data = wc_overall['first'].value_counts().reset_index().rename(columns = {'index':'country','first':'no_of_wins'})\n",
    "bar_data"
   ]
  },
  {
   "cell_type": "code",
   "execution_count": null,
   "id": "610b3399",
   "metadata": {},
   "outputs": [],
   "source": [
    "config = {'staticPlot': True}\n",
    "fig = px.bar(bar_data, x='country',y='no_of_wins', \n",
    "             text='no_of_wins',\n",
    "             template='plotly_dark',\n",
    ")\n",
    "fig.update_traces(width = 0.5,texttemplate='%{text:.2s}', textposition='outside', marker_color = 'orange')\n",
    "fig.update_yaxes(visible=False)\n",
    "fig.update_layout(title_text='Country and World Cup Wins', title_x=0.5,title_y = 0.95,\n",
    "                  uniformtext_minsize=8, \n",
    "                  uniformtext_mode='hide',\n",
    "                  xaxis_title=None)\n",
    "fig.show()"
   ]
  },
  {
   "cell_type": "code",
   "execution_count": null,
   "id": "0c37f43a",
   "metadata": {},
   "outputs": [],
   "source": [
    "def plot_bar(plotlyobj, dataframe,x_axis,y_axis,plot_title):\n",
    "        \n",
    "    \n",
    "    fig = plotlyobj.bar(dataframe, x=x_axis,\n",
    "                 y=y_axis, \n",
    "                 text=y_axis,\n",
    "                 template='plotly_dark',\n",
    "    )\n",
    "    \n",
    "    \n",
    "    \n",
    "    fig.update_traces(width = 0.5,\n",
    "                      textposition='outside', \n",
    "                      marker_color = 'orange')\n",
    "    \n",
    "    fig.update_yaxes(visible=False)\n",
    "    \n",
    "    fig.update_xaxes({'type' : 'category'})\n",
    "\n",
    "    \n",
    "    fig.update_layout(title_text=plot_title, \n",
    "                      title_x=0.5,title_y = 0.95,\n",
    "                      uniformtext_minsize=8, \n",
    "                      uniformtext_mode='hide',\n",
    "                      xaxis_title=None)\n",
    "    \n",
    "    return fig.show()"
   ]
  },
  {
   "cell_type": "code",
   "execution_count": null,
   "id": "47116493",
   "metadata": {},
   "outputs": [],
   "source": [
    "plot_bar(px, bar_data, 'country','no_of_wins', 'Country and World Cup Wins')"
   ]
  },
  {
   "cell_type": "code",
   "execution_count": null,
   "id": "8f1d50eb",
   "metadata": {},
   "outputs": [],
   "source": [
    "def get_grouped_data(dataframe,group_by_col, to_be_grouped):\n",
    "    wc_matches_v1_grouped = dataframe.groupby(group_by_col)[to_be_grouped].sum().reset_index()\n",
    "    return wc_matches_v1_grouped"
   ]
  },
  {
   "cell_type": "code",
   "execution_count": null,
   "id": "1300291d",
   "metadata": {},
   "outputs": [],
   "source": [
    "def get_wc_matches_v1(dataframe,own_goal=False,filter_year = 0 , filter_country = ''):\n",
    "    req_cols = ['year','country', 'player_id', 'player_name', 'home_goals','away_goals','own_goal']\n",
    "    dataframe = dataframe[req_cols]\n",
    "    dataframe['goals'] = dataframe['home_goals'] + dataframe['away_goals']\n",
    "    \n",
    "    if filter_year != 0:\n",
    "        filter_1 = dataframe['year'] == filter_year\n",
    "        dataframe = dataframe[filter_1]\n",
    "    \n",
    "    if filter_country != '':\n",
    "        filter_1 = dataframe['country'] == filter_country\n",
    "        dataframe = dataframe[filter_1]\n",
    "        \n",
    "    if(own_goal):\n",
    "        dataframe = dataframe[dataframe['own_goal'] == 0]\n",
    "    \n",
    "    return dataframe"
   ]
  },
  {
   "cell_type": "code",
   "execution_count": null,
   "id": "b0472e88",
   "metadata": {},
   "outputs": [],
   "source": [
    "wc_matches_v1= get_wc_matches_v1(wc_matches)\n",
    "wc_matches_v1_new = get_wc_matches_v1(wc_matches,True)\n",
    "wc_matches_v1_new"
   ]
  },
  {
   "cell_type": "code",
   "execution_count": null,
   "id": "a3d4ab4c",
   "metadata": {},
   "outputs": [],
   "source": [
    "player_goals_grouped = get_grouped_data(wc_matches_v1,group_by_col=['player_id','player_name'],to_be_grouped='goals')\n",
    "player_goals_grouped = player_goals_grouped.sort_values(by='goals',ascending=False)"
   ]
  },
  {
   "cell_type": "code",
   "execution_count": null,
   "id": "72894e87",
   "metadata": {},
   "outputs": [],
   "source": [
    "plot_bar(px, player_goals_grouped[0:7], 'player_name','goals', 'Top 10 goal scorers of all time')"
   ]
  },
  {
   "cell_type": "code",
   "execution_count": null,
   "id": "7433dc78",
   "metadata": {},
   "outputs": [],
   "source": [
    "#countries with highest goals\n",
    "country_goals_grouped = get_grouped_data(wc_matches_v1_new,group_by_col='country',to_be_grouped='goals')\n",
    "country_goals_grouped = country_goals_grouped.sort_values(by='goals',ascending=False)"
   ]
  },
  {
   "cell_type": "code",
   "execution_count": null,
   "id": "33e68a12",
   "metadata": {},
   "outputs": [],
   "source": [
    "plot_bar(px, country_goals_grouped[0:10], 'country','goals', 'highest goal scoring countries of all time')"
   ]
  },
  {
   "cell_type": "markdown",
   "id": "1a10f758",
   "metadata": {},
   "source": [
    "Year Wise Analytics"
   ]
  },
  {
   "cell_type": "code",
   "execution_count": null,
   "id": "ab2f2c19",
   "metadata": {},
   "outputs": [],
   "source": [
    "#getting the list of year to add to the select box\n",
    "def get_years_list(dataframe):\n",
    "    year_list = dataframe['year'].tolist()\n",
    "    return year_list;"
   ]
  },
  {
   "cell_type": "code",
   "execution_count": null,
   "id": "03da2b5f",
   "metadata": {},
   "outputs": [],
   "source": [
    "get_years_list(wc_overall)"
   ]
  },
  {
   "cell_type": "code",
   "execution_count": null,
   "id": "df78b4ad",
   "metadata": {},
   "outputs": [],
   "source": [
    "#function to return host_country, total attendance, first, second and third\n",
    "filter_year = wc_overall['year'] == 1930\n",
    "dataframe = wc_overall[filter_year]\n",
    "dataframe"
   ]
  },
  {
   "cell_type": "code",
   "execution_count": null,
   "id": "013c88f0",
   "metadata": {},
   "outputs": [],
   "source": [
    "host_country = dataframe['host_country'].values[0]\n",
    "tota_attendance = dataframe['total_attendance'].values[0]\n",
    "first = dataframe['first'].values[0]\n",
    "second = dataframe['second'].values[0]\n",
    "third = dataframe['third'].values[0]\n",
    "print(host_country)\n",
    "print(tota_attendance)\n",
    "print(first)\n",
    "print(second)\n",
    "print(third)"
   ]
  },
  {
   "cell_type": "code",
   "execution_count": null,
   "id": "d694902f",
   "metadata": {},
   "outputs": [],
   "source": [
    "def get_yearly_overall_data(dataframe,selected_year,column_name):\n",
    "    filter_year = wc_overall['year'] == selected_year\n",
    "    dataframe = wc_overall[filter_year]\n",
    "    data = dataframe[column_name].values[0]\n",
    "    return data"
   ]
  },
  {
   "cell_type": "code",
   "execution_count": null,
   "id": "27b67c2d",
   "metadata": {},
   "outputs": [],
   "source": [
    "get_yearly_overall_data(wc_overall,1930,'host_country')"
   ]
  },
  {
   "cell_type": "code",
   "execution_count": null,
   "id": "2dd2696a",
   "metadata": {},
   "outputs": [],
   "source": [
    "get_yearly_overall_data(wc_overall,1930,'total_attendance')"
   ]
  },
  {
   "cell_type": "code",
   "execution_count": null,
   "id": "de0ba288",
   "metadata": {},
   "outputs": [],
   "source": [
    "#getting the qualified teams list and year \n",
    "qualified_teams\n",
    "filter_year = qualified_teams['year'] == 1930\n",
    "qualified_teams[filter_year]"
   ]
  },
  {
   "cell_type": "code",
   "execution_count": null,
   "id": "0bb695ae",
   "metadata": {},
   "outputs": [],
   "source": [
    "participating_teams = get_total_participating_nations(qualified_teams,1930)\n",
    "participating_teams"
   ]
  },
  {
   "cell_type": "code",
   "execution_count": null,
   "id": "46a6f1ae",
   "metadata": {},
   "outputs": [],
   "source": [
    "count(participating_teams)"
   ]
  },
  {
   "cell_type": "code",
   "execution_count": null,
   "id": "fc3a405c",
   "metadata": {},
   "outputs": [],
   "source": [
    "#Task Top 5 highest scoring countries for a given year\n",
    "countries_yearly_filtered=get_wc_matches_v1(wc_matches,own_goal=True,filter_year=1930)\n",
    "countries_yearly_filtered.head(5)"
   ]
  },
  {
   "cell_type": "code",
   "execution_count": null,
   "id": "0efa3d8f",
   "metadata": {},
   "outputs": [],
   "source": [
    "countries_filtered_grouped = get_grouped_data(countries_yearly_filtered,group_by_col='country',to_be_grouped='goals')\n",
    "countries_filtered_grouped = countries_filtered_grouped.sort_values(by='goals',ascending=False)\n",
    "countries_filtered_grouped"
   ]
  },
  {
   "cell_type": "code",
   "execution_count": null,
   "id": "c55eda63",
   "metadata": {},
   "outputs": [],
   "source": [
    "#bar plot of top 5 countries\n",
    "plot_bar(px,countries_filtered_grouped[0:5],x_axis='country',y_axis='goals',plot_title='Countries with highest goals top-5')"
   ]
  },
  {
   "cell_type": "code",
   "execution_count": null,
   "id": "6fe941dc",
   "metadata": {},
   "outputs": [],
   "source": [
    "#Task Top 5 highest scoring countries for a given year\n",
    "players_yearly_filtered=get_wc_matches_v1(wc_matches,own_goal=True,filter_year=1930)\n",
    "player_filtered_grouped = get_grouped_data(players_yearly_filtered,group_by_col=['player_id','player_name'],to_be_grouped='goals')\n",
    "player_filtered_grouped = player_filtered_grouped.sort_values(by='goals',ascending=False)\n",
    "plot_bar(px,player_filtered_grouped[0:5],x_axis='player_name',y_axis='goals',plot_title='Countries with highest goals top-5')"
   ]
  },
  {
   "cell_type": "code",
   "execution_count": null,
   "id": "1d0598d4",
   "metadata": {},
   "outputs": [],
   "source": [
    "get_total_participating_nations(qualified_teams)"
   ]
  },
  {
   "cell_type": "code",
   "execution_count": null,
   "id": "bb526088",
   "metadata": {},
   "outputs": [],
   "source": [
    "#total participating nations list\n",
    "def get_country_participation_years(dataframe,filter_country):\n",
    "    req_col = 'year'\n",
    "    filter_1 = dataframe['country'] == filter_country\n",
    "    participating_years = dataframe[filter_1][req_col].unique()\n",
    "    return participating_years"
   ]
  },
  {
   "cell_type": "code",
   "execution_count": null,
   "id": "e740f4ec",
   "metadata": {},
   "outputs": [],
   "source": [
    "country_participation_years = get_country_participation_years(qualified_teams,'Germany')\n",
    "country_participation_years"
   ]
  },
  {
   "cell_type": "code",
   "execution_count": null,
   "id": "4cca30e7",
   "metadata": {},
   "outputs": [],
   "source": [
    "count(country_participation_years)"
   ]
  },
  {
   "cell_type": "code",
   "execution_count": null,
   "id": "6b41a8ee",
   "metadata": {},
   "outputs": [],
   "source": [
    "#how many goal a country has scored in the wc it has participated\n",
    "df_filtered_by_country = get_wc_matches_v1(wc_matches,filter_country='Germany')\n",
    "df_filtered_by_country"
   ]
  },
  {
   "cell_type": "code",
   "execution_count": null,
   "id": "a6c7017c",
   "metadata": {},
   "outputs": [],
   "source": [
    "country_yearly_goals_grouped = get_grouped_data(df_filtered_by_country,group_by_col='year',to_be_grouped='goals')"
   ]
  },
  {
   "cell_type": "code",
   "execution_count": null,
   "id": "f0038333",
   "metadata": {
    "scrolled": true
   },
   "outputs": [],
   "source": [
    "plot_bar(px,country_yearly_goals_grouped,x_axis='year',y_axis='goals',plot_title='Goals in participated world cups')"
   ]
  },
  {
   "cell_type": "code",
   "execution_count": null,
   "id": "4bfa353f",
   "metadata": {},
   "outputs": [],
   "source": [
    "#Top 5 players with most goals for a given country\n",
    "df_filtered_by_country = get_wc_matches_v1(wc_matches,own_goal=True,filter_country='Germany')\n",
    "player_goals_grouped = get_grouped_data(df_filtered_by_country,group_by_col=['player_id','player_name'],to_be_grouped='goals')\n",
    "player_goals_grouped = player_goals_grouped.sort_values(by='goals',ascending=False)\n",
    "plot_bar(px,player_goals_grouped[0:5],x_axis='player_name',y_axis='goals',plot_title='Goals in participated world cups')"
   ]
  },
  {
   "cell_type": "code",
   "execution_count": null,
   "id": "c32dee4b",
   "metadata": {},
   "outputs": [],
   "source": [
    "#given a country how many times it won a world cup, first position, second position (ex. Germany)\n",
    "filter_1 = wc_overall['first'] == 'Germany'\n",
    "sum(filter_1)"
   ]
  },
  {
   "cell_type": "code",
   "execution_count": null,
   "id": "9c22c06f",
   "metadata": {},
   "outputs": [],
   "source": [
    "filter_1 = wc_overall['second'] == 'Germany'\n",
    "sum(filter_1)"
   ]
  },
  {
   "cell_type": "code",
   "execution_count": null,
   "id": "122e8ea7",
   "metadata": {},
   "outputs": [],
   "source": [
    "#given a country how many times it won a world cup, first position, second position\n",
    "def country_wc_win_position(dataframe,country_filter,pos):\n",
    "    if pos == 1:\n",
    "        filter_1 = dataframe['first'] == country_filter\n",
    "        total_first = sum(filter_1)\n",
    "        return total_first\n",
    "    elif pos == 2:\n",
    "        filter_1 = dataframe['second'] == country_filter\n",
    "        total_second = sum(filter_1)\n",
    "        return total_second\n",
    "    elif pos == 3:\n",
    "        filter_1 = dataframe['third'] == country_filter\n",
    "        total_third = sum(filter_1)\n",
    "        return total_third"
   ]
  },
  {
   "cell_type": "code",
   "execution_count": null,
   "id": "ec64cb95",
   "metadata": {},
   "outputs": [],
   "source": [
    "country_wc_win_position(wc_overall,'Germany',1)"
   ]
  },
  {
   "cell_type": "code",
   "execution_count": null,
   "id": "2b2887c8",
   "metadata": {},
   "outputs": [],
   "source": [
    "country_wc_win_position(wc_overall,'Germany',2)"
   ]
  },
  {
   "cell_type": "code",
   "execution_count": null,
   "id": "fd933638",
   "metadata": {},
   "outputs": [],
   "source": [
    "country_wc_win_position(wc_overall,'Germany',3)"
   ]
  },
  {
   "cell_type": "code",
   "execution_count": null,
   "id": "672737f6",
   "metadata": {},
   "outputs": [],
   "source": [
    "country_wc_win_position(wc_overall,'Argentina',1)"
   ]
  },
  {
   "cell_type": "code",
   "execution_count": null,
   "id": "c1006f7c",
   "metadata": {},
   "outputs": [],
   "source": [
    "country_wc_win_position(wc_overall,'Argentina',2)"
   ]
  },
  {
   "cell_type": "code",
   "execution_count": null,
   "id": "5547d875",
   "metadata": {},
   "outputs": [],
   "source": []
  }
 ],
 "metadata": {
  "kernelspec": {
   "display_name": "Python 3 (ipykernel)",
   "language": "python",
   "name": "python3"
  },
  "language_info": {
   "codemirror_mode": {
    "name": "ipython",
    "version": 3
   },
   "file_extension": ".py",
   "mimetype": "text/x-python",
   "name": "python",
   "nbconvert_exporter": "python",
   "pygments_lexer": "ipython3",
   "version": "3.9.12"
  }
 },
 "nbformat": 4,
 "nbformat_minor": 5
}
